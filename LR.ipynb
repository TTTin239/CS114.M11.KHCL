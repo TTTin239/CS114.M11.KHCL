{
  "nbformat": 4,
  "nbformat_minor": 0,
  "metadata": {
    "colab": {
      "name": "LR.ipynb",
      "provenance": [],
      "collapsed_sections": []
    },
    "kernelspec": {
      "name": "python3",
      "display_name": "Python 3"
    },
    "language_info": {
      "name": "python"
    }
  },
  "cells": [
    {
      "cell_type": "markdown",
      "metadata": {
        "id": "65RKqo_ldLan"
      },
      "source": [
        "#Thư viện"
      ]
    },
    {
      "cell_type": "code",
      "metadata": {
        "id": "1fVBVlGhSdmm"
      },
      "source": [
        "#import thư viện \n",
        "import matplotlib.pyplot as plt\n",
        "import numpy as np\n",
        "import pandas as pd\n",
        "from sklearn.linear_model import LinearRegression\n",
        "from sklearn.metrics import mean_squared_error\n",
        "from sklearn.preprocessing import StandardScaler, PolynomialFeatures\n",
        "from sklearn.metrics import r2_score\n",
        "import sklearn.metrics as metrics"
      ],
      "execution_count": 15,
      "outputs": []
    },
    {
      "cell_type": "code",
      "metadata": {
        "id": "ksoxbf9-dVR6",
        "outputId": "27e3cc72-8d1e-444b-a54e-b9d4e177cec9",
        "colab": {
          "base_uri": "https://localhost:8080/"
        }
      },
      "source": [
        "!wget https://cs.uit.edu.vn/data2.txt\n",
        "!wget https://cs.uit.edu.vn/data3.txt\n",
        "!wget https://cs.uit.edu.vn/data4.txt"
      ],
      "execution_count": 2,
      "outputs": [
        {
          "output_type": "stream",
          "name": "stdout",
          "text": [
            "--2021-12-02 14:15:44--  https://cs.uit.edu.vn/data2.txt\n",
            "Resolving cs.uit.edu.vn (cs.uit.edu.vn)... 118.69.123.142, 45.122.249.78\n",
            "Connecting to cs.uit.edu.vn (cs.uit.edu.vn)|118.69.123.142|:443... connected.\n",
            "HTTP request sent, awaiting response... 200 OK\n",
            "Length: 1203726 (1.1M) [text/plain]\n",
            "Saving to: ‘data2.txt’\n",
            "\n",
            "data2.txt           100%[===================>]   1.15M   967KB/s    in 1.2s    \n",
            "\n",
            "2021-12-02 14:15:47 (967 KB/s) - ‘data2.txt’ saved [1203726/1203726]\n",
            "\n",
            "--2021-12-02 14:15:47--  https://cs.uit.edu.vn/data3.txt\n",
            "Resolving cs.uit.edu.vn (cs.uit.edu.vn)... 118.69.123.142, 45.122.249.78\n",
            "Connecting to cs.uit.edu.vn (cs.uit.edu.vn)|118.69.123.142|:443... connected.\n",
            "HTTP request sent, awaiting response... 200 OK\n",
            "Length: 178891 (175K) [text/plain]\n",
            "Saving to: ‘data3.txt’\n",
            "\n",
            "data3.txt           100%[===================>] 174.70K   242KB/s    in 0.7s    \n",
            "\n",
            "2021-12-02 14:15:49 (242 KB/s) - ‘data3.txt’ saved [178891/178891]\n",
            "\n",
            "--2021-12-02 14:15:49--  https://cs.uit.edu.vn/data4.txt\n",
            "Resolving cs.uit.edu.vn (cs.uit.edu.vn)... 45.122.249.78, 118.69.123.142\n",
            "Connecting to cs.uit.edu.vn (cs.uit.edu.vn)|45.122.249.78|:443... connected.\n",
            "HTTP request sent, awaiting response... 200 OK\n",
            "Length: 101704 (99K) [text/plain]\n",
            "Saving to: ‘data4.txt’\n",
            "\n",
            "data4.txt           100%[===================>]  99.32K   218KB/s    in 0.5s    \n",
            "\n",
            "2021-12-02 14:15:51 (218 KB/s) - ‘data4.txt’ saved [101704/101704]\n",
            "\n"
          ]
        }
      ]
    },
    {
      "cell_type": "markdown",
      "metadata": {
        "id": "15DUWkoldWWi"
      },
      "source": [
        "#Đọc Dữ Liệu"
      ]
    },
    {
      "cell_type": "code",
      "metadata": {
        "id": "V8evN6svdZP1"
      },
      "source": [
        "#Đọc dữ liệu vào data_train và data_test\n",
        "#data_train = np.loadtxt('/content/data2.txt', delimiter=',', dtype=float)\n",
        "#data_test= np.loadtxt('/content/data3.txt', delimiter=',', dtype=float)\n",
        "data_train = pd.read_csv('data2.txt', header=None)\n",
        "data_test = pd.read_csv('data3.txt', header=None)\n",
        "data_test2=pd.read_csv('data4.txt', header=None)"
      ],
      "execution_count": 3,
      "outputs": []
    },
    {
      "cell_type": "code",
      "metadata": {
        "id": "cDIfxzvldcIy"
      },
      "source": [
        "data_train =data_train.to_numpy()\n",
        "data_test =data_test.to_numpy()"
      ],
      "execution_count": 4,
      "outputs": []
    },
    {
      "cell_type": "code",
      "metadata": {
        "id": "RpC1CjfCdd3e",
        "outputId": "6c7a56c2-65bf-44c7-ff1f-e86e64cdbbff",
        "colab": {
          "base_uri": "https://localhost:8080/"
        }
      },
      "source": [
        "data_train= data_train[data_train[:,0]>0.4*1e7]\n",
        "len(data_train)"
      ],
      "execution_count": 5,
      "outputs": [
        {
          "output_type": "execute_result",
          "data": {
            "text/plain": [
              "42646"
            ]
          },
          "metadata": {},
          "execution_count": 5
        }
      ]
    },
    {
      "cell_type": "code",
      "metadata": {
        "id": "4XWI5p0ddfhp"
      },
      "source": [
        "x_train = data_train[:, 0]  #cột đầu là X_train\n",
        "y_train = data_train[:, 1]  #cột thứ hai là y_train\n",
        "x_test= data_test[:,0]      #cột đầu là X_test\n",
        "y_test=data_test[:,1]       #cột thứ hai là y_test"
      ],
      "execution_count": 6,
      "outputs": []
    },
    {
      "cell_type": "code",
      "metadata": {
        "id": "PgDZUnr2dhZh",
        "outputId": "5c88310a-bbc2-46df-f6c1-88500ed54a20",
        "colab": {
          "base_uri": "https://localhost:8080/",
          "height": 279
        }
      },
      "source": [
        "#vẽ data train\n",
        "plt.scatter(x_train, y_train)\n",
        "plt.xlabel(\"size\")\n",
        "plt.ylabel(\"time\")\n",
        "plt.show()"
      ],
      "execution_count": 7,
      "outputs": [
        {
          "output_type": "display_data",
          "data": {
            "image/png": "[encoded data removed]",
            "text/plain": [
              "<Figure size 432x288 with 1 Axes>"
            ]
          },
          "metadata": {
            "needs_background": "light"
          }
        }
      ]
    },
    {
      "cell_type": "code",
      "metadata": {
        "id": "GMB3FvhidjfZ",
        "outputId": "959e050e-ffd6-4a82-a549-b754844752e4",
        "colab": {
          "base_uri": "https://localhost:8080/",
          "height": 279
        }
      },
      "source": [
        "#vẽ data test \n",
        "plt.scatter(x_test, y_test)\n",
        "plt.xlabel(\"size\")\n",
        "plt.ylabel(\"time\")\n",
        "plt.show()"
      ],
      "execution_count": 8,
      "outputs": [
        {
          "output_type": "display_data",
          "data": {
            "image/png": "[encoded data removed]",
            "text/plain": [
              "<Figure size 432x288 with 1 Axes>"
            ]
          },
          "metadata": {
            "needs_background": "light"
          }
        }
      ]
    },
    {
      "cell_type": "markdown",
      "metadata": {
        "id": "bvCqaUIAdlXk"
      },
      "source": [
        "#Hàm phụ"
      ]
    },
    {
      "cell_type": "code",
      "metadata": {
        "id": "WUPC1ryidnz6"
      },
      "source": [
        "def estimate_coef(x, y): \n",
        "    # number of observations/points \n",
        "    n = np.size(x) \n",
        "  \n",
        "    # mean of x and y vector \n",
        "    m_x, m_y = np.mean(x), np.mean(y) \n",
        "  \n",
        "    # calculating cross-deviation and deviation about x \n",
        "    SS_xy = np.sum(y*x) - n*m_y*m_x \n",
        "    SS_xx = np.sum(x*x) - n*m_x*m_x \n",
        "  \n",
        "    # calculating regression coefficients \n",
        "    b_1 = SS_xy / SS_xx \n",
        "    b_0 = m_y - b_1*m_x \n",
        "  \n",
        "    return(b_0, b_1)"
      ],
      "execution_count": 9,
      "outputs": []
    },
    {
      "cell_type": "code",
      "metadata": {
        "id": "mBEpjF-Wencz"
      },
      "source": [
        "def plot_regression_line(x, y, b,title=\"\"): \n",
        "    plt.scatter(x, y, color = \"blue\", \n",
        "               marker = \"o\", s = 30) \n",
        "    # predicted response vector \n",
        "    y_pred = b[0] + b[1]*x \n",
        "    # vẽ line\n",
        "    plt.plot(x, y_pred, color = \"red\") \n",
        "    plt.title(title)\n",
        "    plt.xlabel(\"size\")\n",
        "    plt.ylabel(\"time\")\n",
        "    plt.show()"
      ],
      "execution_count": 10,
      "outputs": []
    },
    {
      "cell_type": "markdown",
      "metadata": {
        "id": "Ks1QUSvteqb5"
      },
      "source": [
        "#Train Model"
      ]
    },
    {
      "cell_type": "code",
      "metadata": {
        "id": "7cCmh6qlet7p"
      },
      "source": [
        "reg=LinearRegression()\n",
        "reg.fit(x_train.reshape(-1,1),y_train)\n",
        "reg.score(x_train.reshape(-1,1),y_train)\n",
        "y_trainpred=reg.predict(x_train.reshape(-1,1))\n",
        "y_pred=reg.predict(x_test.reshape(-1,1))"
      ],
      "execution_count": 11,
      "outputs": []
    },
    {
      "cell_type": "code",
      "metadata": {
        "id": "84qIwFoEev2B",
        "outputId": "aa7f983c-71f5-46da-9fde-50dc65f06709",
        "colab": {
          "base_uri": "https://localhost:8080/",
          "height": 295
        }
      },
      "source": [
        "plot_regression_line(x_train,y_train,b = estimate_coef(x_train,y_trainpred),title=\"Train-predict\")"
      ],
      "execution_count": 12,
      "outputs": [
        {
          "output_type": "display_data",
          "data": {
            "image/png": "[encoded data removed]",
            "text/plain": [
              "<Figure size 432x288 with 1 Axes>"
            ]
          },
          "metadata": {
            "needs_background": "light"
          }
        }
      ]
    },
    {
      "cell_type": "code",
      "metadata": {
        "id": "r-HeRSMMeznp",
        "outputId": "246820bf-9130-4dba-ada8-c6749b3f04e1",
        "colab": {
          "base_uri": "https://localhost:8080/",
          "height": 295
        }
      },
      "source": [
        "plot_regression_line(x_test,y_test,b = estimate_coef(x_test,y_pred ),title='Test-predict')"
      ],
      "execution_count": 13,
      "outputs": [
        {
          "output_type": "display_data",
          "data": {
            "image/png": "[encoded data removed]",
            "text/plain": [
              "<Figure size 432x288 with 1 Axes>"
            ]
          },
          "metadata": {
            "needs_background": "light"
          }
        }
      ]
    },
    {
      "cell_type": "markdown",
      "metadata": {
        "id": "E6lnSF-8e3TB"
      },
      "source": [
        "#Đánh giá"
      ]
    },
    {
      "cell_type": "code",
      "metadata": {
        "id": "Vs6QqY6Oe5sR",
        "outputId": "fbb9f943-8e6a-40dc-ca3d-3f2ed4eeaaac",
        "colab": {
          "base_uri": "https://localhost:8080/"
        }
      },
      "source": [
        "y_pred1=y_trainpred\n",
        "print(\"Mean absolute: %f\" % np.mean(np.absolute(y_pred1-y_train)))\n",
        "print(\"R2-score: %f\"% metrics.r2_score(y_train,y_pred1))\n",
        "print(\"mean_squared_error %f\" %mean_squared_error(y_pred1,y_train))"
      ],
      "execution_count": 16,
      "outputs": [
        {
          "output_type": "stream",
          "name": "stdout",
          "text": [
            "Mean absolute: 0.009515\n",
            "R2-score: 0.991558\n",
            "mean_squared_error 0.000190\n"
          ]
        }
      ]
    },
    {
      "cell_type": "code",
      "metadata": {
        "id": "lTJk3pvme7gx",
        "outputId": "92513849-e43b-46e1-d719-1b23f10741ec",
        "colab": {
          "base_uri": "https://localhost:8080/"
        }
      },
      "source": [
        "y_pred=reg.predict(x_test.reshape(-1,1))\n",
        "print(\"Mean absolute: %f\" % np.mean(np.absolute(y_pred-y_test)))\n",
        "print(\"MSE: %f\"% np.mean((y_pred)-y_test)**2)\n",
        "print(\"R2-score: %f\"% metrics.r2_score(y_test,y_pred))\n",
        "print(\"mean_squared_error %f\" %mean_squared_error(y_pred,y_test))"
      ],
      "execution_count": 17,
      "outputs": [
        {
          "output_type": "stream",
          "name": "stdout",
          "text": [
            "Mean absolute: 0.075972\n",
            "MSE: 0.005320\n",
            "R2-score: 0.965618\n",
            "mean_squared_error 0.009925\n"
          ]
        }
      ]
    },
    {
      "cell_type": "code",
      "metadata": {
        "id": "fXvgBVt1e9Xd",
        "outputId": "cfe2e94c-c862-4661-f92c-da63f3bdaf7d",
        "colab": {
          "base_uri": "https://localhost:8080/"
        }
      },
      "source": [
        "reg.score(x_test.reshape(-1,1),y_test)"
      ],
      "execution_count": 18,
      "outputs": [
        {
          "output_type": "execute_result",
          "data": {
            "text/plain": [
              "0.9656180301457472"
            ]
          },
          "metadata": {},
          "execution_count": 18
        }
      ]
    },
    {
      "cell_type": "markdown",
      "metadata": {
        "id": "hcliDEE6e_Cs"
      },
      "source": [
        "#LR use polynominalfeatures"
      ]
    },
    {
      "cell_type": "code",
      "metadata": {
        "id": "XiMHkIKofBYd"
      },
      "source": [
        "def polynominalfeatures(x):\n",
        "  return np.c_[x[:, :1], np.log(x[:, :1]), x[:, :1]**0.5]"
      ],
      "execution_count": 19,
      "outputs": []
    },
    {
      "cell_type": "code",
      "metadata": {
        "id": "DyC3QzStfDiQ"
      },
      "source": [
        "train = pd.read_csv('data2.txt', header=None).to_numpy()\n",
        "test1 = pd.read_csv('data3.txt', header=None).to_numpy()\n",
        "test2 = pd.read_csv('data4.txt', header=None).to_numpy()\n",
        "\n",
        "train = train[train[:, 0] > 0.4*1e7]\n",
        "\n",
        "X_train = polynominalfeatures(train)\n",
        "X_test1 = polynominalfeatures(test1)\n",
        "X_test2 = polynominalfeatures(test2)\n",
        "\n",
        "scaler = StandardScaler()\n",
        "\n",
        "X_train, Y_train = scaler.fit_transform(X_train), train[:, 1]\n",
        "X_test1, Y_test1 = scaler.transform(X_test1), test1[:, 1]\n",
        "X_test2, Y_test2 = scaler.transform(X_test2), test2[:, 1]"
      ],
      "execution_count": 20,
      "outputs": []
    },
    {
      "cell_type": "code",
      "metadata": {
        "id": "Otgaas9ZfFtO"
      },
      "source": [
        "reg = LinearRegression()\n",
        "reg.fit(X_train, Y_train)\n",
        "Y_trainpred=reg.predict(X_train)\n",
        "Y_pred1=reg.predict(X_test1)\n",
        "Y_pred2=reg.predict(X_test1)"
      ],
      "execution_count": 21,
      "outputs": []
    },
    {
      "cell_type": "code",
      "metadata": {
        "id": "SNFhL7VVfHko",
        "outputId": "32a3449d-e51b-47e5-b4b8-5c018e391d4a",
        "colab": {
          "base_uri": "https://localhost:8080/"
        }
      },
      "source": [
        "Y_train.shape"
      ],
      "execution_count": 22,
      "outputs": [
        {
          "output_type": "execute_result",
          "data": {
            "text/plain": [
              "(42646,)"
            ]
          },
          "metadata": {},
          "execution_count": 22
        }
      ]
    },
    {
      "cell_type": "code",
      "metadata": {
        "id": "9y9macJvfJeB",
        "outputId": "8a7c34da-dbef-42d6-db18-3cb10403af2c",
        "colab": {
          "base_uri": "https://localhost:8080/",
          "height": 295
        }
      },
      "source": [
        "train_pred = reg.predict(X_train)\n",
        "train_score = r2_score(Y_train, train_pred)\n",
        "plt.scatter(scaler.inverse_transform(X_train)[:, 0], Y_train)\n",
        "plt.plot(scaler.inverse_transform(X_train)[:, 0], train_pred, c='r')"
      ],
      "execution_count": 31,
      "outputs": [
        {
          "output_type": "execute_result",
          "data": {
            "text/plain": [
              "[<matplotlib.lines.Line2D at 0x7f52a5a55cd0>]"
            ]
          },
          "metadata": {},
          "execution_count": 31
        },
        {
          "output_type": "display_data",
          "data": {
            "image/png": "[encoded data removed]",
            "text/plain": [
              "<Figure size 432x288 with 1 Axes>"
            ]
          },
          "metadata": {
            "needs_background": "light"
          }
        }
      ]
    },
    {
      "cell_type": "code",
      "metadata": {
        "id": "cskU-SrGfLR9",
        "outputId": "4c72b07f-96fd-4875-f60a-8aa2b82b1a11",
        "colab": {
          "base_uri": "https://localhost:8080/",
          "height": 295
        }
      },
      "source": [
        "test_pred = reg.predict(X_test1)\n",
        "test_score = r2_score(Y_test1, test_pred)\n",
        "plt.scatter(scaler.inverse_transform(X_test1)[:, 0],Y_test1)\n",
        "plt.plot(scaler.inverse_transform(X_test1)[:, 0], test_pred, c='r')"
      ],
      "execution_count": 30,
      "outputs": [
        {
          "output_type": "execute_result",
          "data": {
            "text/plain": [
              "[<matplotlib.lines.Line2D at 0x7f52a5a6e5d0>]"
            ]
          },
          "metadata": {},
          "execution_count": 30
        },
        {
          "output_type": "display_data",
          "data": {
            "image/png": "[encoded data removed]",
            "text/plain": [
              "<Figure size 432x288 with 1 Axes>"
            ]
          },
          "metadata": {
            "needs_background": "light"
          }
        }
      ]
    },
    {
      "cell_type": "code",
      "metadata": {
        "id": "FFx9JuPXfNiF",
        "outputId": "b914adec-d500-41f4-893e-fcddffb24e20",
        "colab": {
          "base_uri": "https://localhost:8080/",
          "height": 295
        }
      },
      "source": [
        "test_pred = reg.predict(X_test2)\n",
        "test_score = r2_score(Y_test2, test_pred)\n",
        "plt.scatter(scaler.inverse_transform(X_test2)[:, 0], Y_test2)\n",
        "plt.plot(scaler.inverse_transform(X_test2)[:, 0], test_pred, c='r')"
      ],
      "execution_count": 32,
      "outputs": [
        {
          "output_type": "execute_result",
          "data": {
            "text/plain": [
              "[<matplotlib.lines.Line2D at 0x7f52a5960250>]"
            ]
          },
          "metadata": {},
          "execution_count": 32
        },
        {
          "output_type": "display_data",
          "data": {
            "image/png": "[encoded data removed]",
            "text/plain": [
              "<Figure size 432x288 with 1 Axes>"
            ]
          },
          "metadata": {
            "needs_background": "light"
          }
        }
      ]
    },
    {
      "cell_type": "markdown",
      "metadata": {
        "id": "QAtDCMAIfRRZ"
      },
      "source": [
        "#Đánh giá"
      ]
    },
    {
      "cell_type": "markdown",
      "metadata": {
        "id": "3d60Zpm_fT0S"
      },
      "source": [
        "##Train"
      ]
    },
    {
      "cell_type": "code",
      "metadata": {
        "id": "C5r6iaGOfWbC",
        "outputId": "52ce4783-a977-47b4-9931-bf0e760cc797",
        "colab": {
          "base_uri": "https://localhost:8080/"
        }
      },
      "source": [
        "Y_pred=Y_trainpred\n",
        "print(\"Mean absolute: %f\" % np.mean(np.absolute(Y_pred-Y_train)))\n",
        "print(\"R2-score: %f\"% metrics.r2_score(Y_train,Y_pred))\n",
        "print(\"mean_squared_error %f\" %mean_squared_error(Y_pred,Y_train))"
      ],
      "execution_count": 23,
      "outputs": [
        {
          "output_type": "stream",
          "name": "stdout",
          "text": [
            "Mean absolute: 0.009480\n",
            "R2-score: 0.991604\n",
            "mean_squared_error 0.000189\n"
          ]
        }
      ]
    },
    {
      "cell_type": "markdown",
      "metadata": {
        "id": "33fyAKY6fYqR"
      },
      "source": [
        "##Test data3"
      ]
    },
    {
      "cell_type": "code",
      "metadata": {
        "id": "ewEF1Vzzfaw5",
        "outputId": "4981ac50-fadd-45c7-fb63-ac2e37c8930f",
        "colab": {
          "base_uri": "https://localhost:8080/"
        }
      },
      "source": [
        "Y_pred1=reg.predict(X_test1)\n",
        "print(\"Mean absolute: %f\" % np.mean(np.absolute(Y_pred1-Y_test1)))\n",
        "print(\"MSE: %f\"% np.mean((Y_pred1)-Y_test1)**2)\n",
        "print(\"R2-score: %f\"% metrics.r2_score(Y_test1,Y_pred1))\n",
        "print(\"mean_squared_error %f\" %mean_squared_error(Y_pred1,Y_test1))"
      ],
      "execution_count": 24,
      "outputs": [
        {
          "output_type": "stream",
          "name": "stdout",
          "text": [
            "Mean absolute: 0.053361\n",
            "MSE: 0.001208\n",
            "R2-score: 0.983874\n",
            "mean_squared_error 0.004655\n"
          ]
        }
      ]
    },
    {
      "cell_type": "markdown",
      "metadata": {
        "id": "klbhLX0AfdRZ"
      },
      "source": [
        "##Test data4"
      ]
    },
    {
      "cell_type": "code",
      "metadata": {
        "id": "KEKAR5KGffb8",
        "outputId": "59d7f9db-2b15-4497-daa7-0d1bd72524f2",
        "colab": {
          "base_uri": "https://localhost:8080/"
        }
      },
      "source": [
        "Y_pred2=reg.predict(X_test2)\n",
        "print(\"Mean absolute: %f\" % np.mean(np.absolute(Y_pred2-Y_test2)))\n",
        "print(\"MSE: %f\"% np.mean((Y_pred2)-Y_test2)**2)\n",
        "print(\"R2-score: %f\"% metrics.r2_score(Y_test2,Y_pred2))\n",
        "print(\"mean_squared_error %f\" %mean_squared_error(Y_pred2,Y_test2))"
      ],
      "execution_count": 25,
      "outputs": [
        {
          "output_type": "stream",
          "name": "stdout",
          "text": [
            "Mean absolute: 0.090157\n",
            "MSE: 0.000902\n",
            "R2-score: 0.953297\n",
            "mean_squared_error 0.015252\n"
          ]
        }
      ]
    }
  ]
}
